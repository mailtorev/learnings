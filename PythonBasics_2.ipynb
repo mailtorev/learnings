{
 "cells": [
  {
   "cell_type": "code",
   "execution_count": 13,
   "metadata": {},
   "outputs": [
    {
     "name": "stdout",
     "output_type": "stream",
     "text": [
      "[1, 2, 2.5, 'Hello1', (1+2j)]\n",
      "Hello1\n",
      "a[2] is :  2.5\n",
      "a[2] is :  5.1\n",
      "My list is:  [1, 2, 5.1, 'Hello1', (1+2j)]\n",
      "My list is:  [1, [9, 8, 9], 5.1, 'Hello1', (1+2j)]\n",
      "My list is:  [3, 1, [9, 8, 9], 5.1, 7, 'Hello1', (1+2j)]\n"
     ]
    }
   ],
   "source": [
    "#list\n",
    "#List are mutable, that is value of elements of list can be altered\n",
    "#The index starts from 0\n",
    "\n",
    "\n",
    "a = [1,2,2.5,\"Hello1\",1+2j]\n",
    "print(a)\n",
    "\n",
    "print(a[3])\n",
    "\n",
    "print (\"a[2] is : \",a[2])\n",
    "a[2] = 5.1\n",
    "print (\"a[2] is : \",a[2])\n",
    "\n",
    "print (\"My list is: \",a)\n",
    "\n",
    "a[1] = [9,8,9]\n",
    "\n",
    "print (\"My list is: \",a)\n",
    "\n",
    "a.insert(3,7)\n",
    "a.insert(0,3)\n",
    "\n",
    "print (\"My list is: \",a)\n",
    "\n"
   ]
  },
  {
   "cell_type": "code",
   "execution_count": 17,
   "metadata": {},
   "outputs": [
    {
     "name": "stdout",
     "output_type": "stream",
     "text": [
      "Tuple a:  (5, 'Hello', 23.2, (1+2j))\n",
      "a[2] :  23.2\n",
      "GREEN\n"
     ]
    }
   ],
   "source": [
    "#Tuples\n",
    "#Tuples are immutable, that is value of elements of tuples cannot be altered\n",
    "\n",
    "\n",
    "a = (5,\"Hello\", 23.2, 1+2j)\n",
    "\n",
    "print (\"Tuple a: \",a)\n",
    "\n",
    "print (\"a[2] : \",a[2])\n",
    "\n",
    "colors = (\"RED\",\"GREEN\",\"YELLOW\")\n",
    "\n",
    "print (colors[1])\n",
    "#a[2] = 3.3\n",
    "\n",
    "#a[4] = 23\n"
   ]
  },
  {
   "cell_type": "code",
   "execution_count": 19,
   "metadata": {},
   "outputs": [
    {
     "name": "stdout",
     "output_type": "stream",
     "text": [
      "Hi, How are you?\n",
      "Hello, how are you?\n",
      "h\n"
     ]
    },
    {
     "ename": "TypeError",
     "evalue": "'str' object does not support item assignment",
     "output_type": "error",
     "traceback": [
      "\u001b[1;31m---------------------------------------------------------------------------\u001b[0m",
      "\u001b[1;31mTypeError\u001b[0m                                 Traceback (most recent call last)",
      "\u001b[1;32m<ipython-input-19-cc71305c8999>\u001b[0m in \u001b[0;36m<module>\u001b[1;34m()\u001b[0m\n\u001b[0;32m     11\u001b[0m \u001b[0mprint\u001b[0m \u001b[1;33m(\u001b[0m\u001b[0ms\u001b[0m\u001b[1;33m[\u001b[0m\u001b[1;36m7\u001b[0m\u001b[1;33m]\u001b[0m\u001b[1;33m)\u001b[0m\u001b[1;33m\u001b[0m\u001b[0m\n\u001b[0;32m     12\u001b[0m \u001b[1;33m\u001b[0m\u001b[0m\n\u001b[1;32m---> 13\u001b[1;33m \u001b[0ms\u001b[0m\u001b[1;33m[\u001b[0m\u001b[1;36m4\u001b[0m\u001b[1;33m]\u001b[0m \u001b[1;33m=\u001b[0m \u001b[1;34m\"s\"\u001b[0m\u001b[1;33m\u001b[0m\u001b[0m\n\u001b[0m",
      "\u001b[1;31mTypeError\u001b[0m: 'str' object does not support item assignment"
     ]
    }
   ],
   "source": [
    "#String\n",
    "\n",
    "#String is a immutable\n",
    "\n",
    "s = \"Hi, How are you?\"\n",
    "print (s)\n",
    "\n",
    "s = \"Hello, how are you?\"\n",
    "print (s)\n",
    "\n",
    "print (s[7])\n",
    "\n",
    "s[4] = \"s\""
   ]
  },
  {
   "cell_type": "code",
   "execution_count": 21,
   "metadata": {},
   "outputs": [
    {
     "name": "stdout",
     "output_type": "stream",
     "text": [
      "{1, 2, 3, 6, 8, 123, 124}\n",
      "{2, 3, 6, 8, 123, 124}\n",
      "{3, 6, 8, 123, 124}\n"
     ]
    }
   ],
   "source": [
    "#Set\n",
    "\n",
    "#set is unordered collection of unique items\n",
    "\n",
    "#Indexing has no meaning, Hence slicing operator[] has no work\n",
    "\n",
    "a = {1,1,1,1,1,1,1,2,6,8,6,3,123,124}\n",
    "print (a)\n",
    "\n",
    "type(a)\n",
    "\n",
    "a.pop()\n",
    "\n",
    "print (a)\n",
    "\n",
    "a.pop()\n",
    "\n",
    "print (a)"
   ]
  },
  {
   "cell_type": "code",
   "execution_count": 23,
   "metadata": {},
   "outputs": [
    {
     "name": "stdout",
     "output_type": "stream",
     "text": [
      "{'b', 'a', 'q', 'r', 'e'}\n",
      "{'a', 'q', 'r', 't', 'e'}\n"
     ]
    }
   ],
   "source": [
    "s = {'q','a','e','r','b','b','a'}\n",
    "\n",
    "print(s)\n",
    "s.pop()\n",
    "s.add('t')\n",
    "print(s)\n",
    "\n"
   ]
  },
  {
   "cell_type": "code",
   "execution_count": 30,
   "metadata": {},
   "outputs": [
    {
     "name": "stdout",
     "output_type": "stream",
     "text": [
      "<class 'dict'>\n",
      "2\n",
      "3\n",
      "{1: 'value', 'key': 2, 7: 4, 'l': [[1, 2, 3, 4], [2, 3, 4, 5]], 'constant': ('BLUE', 'RED', 'GREEN')}\n",
      "3\n",
      "GREEN\n"
     ]
    }
   ],
   "source": [
    "#Dictionary\n",
    "\n",
    "#Dictionary is an unordered collection of key-value pair\n",
    "\n",
    "#Dictionary is mutable\n",
    "\n",
    "dictionary = {1:'value', \"key\":2,7:3,'l':[[1,2,3,4],[2,3,4,5]],\"constant\":(\"BLUE\",\"RED\",\"GREEN\")}\n",
    "\n",
    "print(type(dictionary))\n",
    "\n",
    "print (dictionary['key'])\n",
    "\n",
    "print (dictionary[7])\n",
    "\n",
    "dictionary[7] = 4\n",
    "\n",
    "print (dictionary)\n",
    "\n",
    "print(dictionary['l'][0][2])\n",
    "\n",
    "print (dictionary[\"constant\"][2])\n",
    "\n"
   ]
  },
  {
   "cell_type": "code",
   "execution_count": null,
   "metadata": {},
   "outputs": [],
   "source": []
  },
  {
   "cell_type": "code",
   "execution_count": null,
   "metadata": {},
   "outputs": [],
   "source": []
  }
 ],
 "metadata": {
  "anaconda-cloud": {},
  "kernelspec": {
   "display_name": "Python 3",
   "language": "python",
   "name": "python3"
  },
  "language_info": {
   "codemirror_mode": {
    "name": "ipython",
    "version": 3
   },
   "file_extension": ".py",
   "mimetype": "text/x-python",
   "name": "python",
   "nbconvert_exporter": "python",
   "pygments_lexer": "ipython3",
   "version": "3.7.0"
  }
 },
 "nbformat": 4,
 "nbformat_minor": 1
}
