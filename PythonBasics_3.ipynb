{
 "cells": [
  {
   "cell_type": "code",
   "execution_count": 1,
   "metadata": {},
   "outputs": [
    {
     "name": "stdout",
     "output_type": "stream",
     "text": [
      "The type of num before conversion :  <class 'float'>\n",
      "5\n",
      "The type of num after conversion :  <class 'int'>\n",
      "The type of flag : <class 'int'> 0\n",
      "The type of trueFalse  <class 'bool'> False\n"
     ]
    }
   ],
   "source": [
    "#Conversion of data types\n",
    "\n",
    "num  = 5.5\n",
    "\n",
    "print ('The type of num before conversion : ',type(num))\n",
    "\n",
    "#Conversion\n",
    "num = int(num)\n",
    "print(num)\n",
    "print ('The type of num after conversion : ',type(num))\n",
    "\n",
    "flag = 0\n",
    "print ('The type of flag :',type(flag),flag)\n",
    "truFalse = bool(flag)\n",
    "print ('The type of trueFalse ',type(truFalse),truFalse)"
   ]
  },
  {
   "cell_type": "code",
   "execution_count": 2,
   "metadata": {},
   "outputs": [
    {
     "name": "stdout",
     "output_type": "stream",
     "text": [
      "-10\n",
      "10.0\n",
      "The type of abc before conversion :  <class 'int'> 123\n",
      "The type of abc after conversion :  <class 'str'> 123\n",
      "123\n",
      "10\n"
     ]
    }
   ],
   "source": [
    "print (int(-10.754))\n",
    "\n",
    "print (float(10))\n",
    "\n",
    "#conversion\n",
    "abc = 123\n",
    "\n",
    "print('The type of abc before conversion : ',type(abc),abc)\n",
    "abc = str(abc)\n",
    "print('The type of abc after conversion : ',type(abc),abc)\n",
    "print(abc)\n",
    "\n",
    "print (int(10.899))\n"
   ]
  },
  {
   "cell_type": "code",
   "execution_count": 3,
   "metadata": {},
   "outputs": [
    {
     "ename": "ValueError",
     "evalue": "invalid literal for int() with base 10: 'a'",
     "output_type": "error",
     "traceback": [
      "\u001b[1;31m---------------------------------------------------------------------------\u001b[0m",
      "\u001b[1;31mValueError\u001b[0m                                Traceback (most recent call last)",
      "\u001b[1;32m<ipython-input-3-ee1aec8aa7a2>\u001b[0m in \u001b[0;36m<module>\u001b[1;34m()\u001b[0m\n\u001b[0;32m      1\u001b[0m \u001b[1;31m#Conversion should be compatible values\u001b[0m\u001b[1;33m\u001b[0m\u001b[1;33m\u001b[0m\u001b[0m\n\u001b[0;32m      2\u001b[0m \u001b[1;33m\u001b[0m\u001b[0m\n\u001b[1;32m----> 3\u001b[1;33m \u001b[0mint\u001b[0m\u001b[1;33m(\u001b[0m\u001b[1;34m'a'\u001b[0m\u001b[1;33m)\u001b[0m\u001b[1;33m\u001b[0m\u001b[0m\n\u001b[0m",
      "\u001b[1;31mValueError\u001b[0m: invalid literal for int() with base 10: 'a'"
     ]
    }
   ],
   "source": [
    "#Conversion should be compatible values\n",
    "\n",
    "int('a')"
   ]
  },
  {
   "cell_type": "code",
   "execution_count": null,
   "metadata": {},
   "outputs": [],
   "source": [
    "#Set conversion\n",
    "a = [11,1,1,2,2,3,3,4,4,5,5,5,6,6,6,7]\n",
    "\n",
    "print (a)\n",
    "print (len(a))\n",
    "print('The type of a before conversion : ',type(a))\n",
    "\n",
    "#Conversion\n",
    "a = set(a)\n",
    "\n",
    "print (a)\n",
    "print (len(a))\n",
    "print('The type of a after conversion : ',type(a))\n",
    "\n",
    "\n"
   ]
  },
  {
   "cell_type": "code",
   "execution_count": null,
   "metadata": {},
   "outputs": [],
   "source": [
    "a = [1,3,4,5,6,4,32,8,6,9]\n",
    "a\n",
    "print('The type of a before conversion : ',type(a))\n",
    "print (a)\n",
    "\n",
    "a[2] = 53\n",
    "a\n",
    "\n",
    "a = tuple(a)\n",
    "\n",
    "print('The type of a after conversion : ',type(a))\n",
    "print (a)\n",
    "a[2] = 100\n"
   ]
  },
  {
   "cell_type": "code",
   "execution_count": null,
   "metadata": {},
   "outputs": [],
   "source": [
    "a = 'Hello, How are you!'\n",
    "print(a)\n",
    "\n",
    "#a[2] = 'r'\n",
    "print('The type of a before conversion : ',type(a))\n",
    "print (a[2])\n",
    "\n",
    "a = list(a)\n",
    "print(a)\n",
    "print('The type of a after conversion : ',type(a))\n",
    "\n",
    "a[2] = 'r'\n",
    "print(a)\n"
   ]
  },
  {
   "cell_type": "code",
   "execution_count": null,
   "metadata": {},
   "outputs": [],
   "source": [
    "b = dict([[1,2],[3,4]])\n",
    "print(b)\n",
    "list1 = ['a',[1,2,3,4]]\n",
    "list2 = ['b',[2,643,34]]\n",
    "\n",
    "d = dict([list1,list2])\n",
    "\n",
    "print(d)\n",
    "\n"
   ]
  },
  {
   "cell_type": "code",
   "execution_count": null,
   "metadata": {},
   "outputs": [],
   "source": [
    "print?"
   ]
  },
  {
   "cell_type": "code",
   "execution_count": 4,
   "metadata": {},
   "outputs": [
    {
     "name": "stdout",
     "output_type": "stream",
     "text": [
      "The value of a is :  4\n",
      "1 2 3 4\n",
      "1,2,3,4\n",
      "1,2,3,4;**\n",
      "\n",
      "The value of x is 5 and y is 10\n",
      "The value of x is 5 and y is 10\n",
      "The value of x is 10 and y is 5\n",
      "The value of x is 10 and y is 5\n",
      "Hello Python Tutor, Good Morning\n",
      "Enter the number:5\n",
      "5\n"
     ]
    }
   ],
   "source": [
    "#Input and Output formatting\n",
    "\n",
    "a = 4\n",
    "\n",
    "print(\"The value of a is : \",a)\n",
    "\n",
    "print(1,2,3,4)\n",
    "\n",
    "#print(object,sep='',end='',file=sys.stdout,flush=False)\n",
    "\n",
    "print(1,2,3,4,sep=',')\n",
    "\n",
    "print(1,2,3,4,sep=',',end=';**')\n",
    "\n",
    "print('\\n')\n",
    "\n",
    "x = 5\n",
    "\n",
    "y = 10\n",
    "\n",
    "print('The value of x is {} and y is {}'.format(x,y))\n",
    "\n",
    "\n",
    "print('The value of x is {0} and y is {1}'.format(x,y))\n",
    "\n",
    "print('The value of x is {1} and y is {0}'.format(x,y))\n",
    "\n",
    "print('The value of x is {0} and y is {1}'.format(y,x))\n",
    "\n",
    "print('Hello {name}, {greeting}'.format(greeting='Good Morning',name='Python Tutor'))\n",
    "\n",
    "\n",
    "num = input('Enter the number:')\n",
    "print (num)\n",
    "\n"
   ]
  },
  {
   "cell_type": "code",
   "execution_count": 5,
   "metadata": {},
   "outputs": [
    {
     "name": "stdout",
     "output_type": "stream",
     "text": [
      "The value of x is 5 and y 10 is 15\n"
     ]
    }
   ],
   "source": [
    "print('The value of x is {0} and y {1} is {2}'.format(x,y,x+y))"
   ]
  },
  {
   "cell_type": "code",
   "execution_count": 8,
   "metadata": {},
   "outputs": [
    {
     "name": "stdout",
     "output_type": "stream",
     "text": [
      "Enter the your name Jane\n",
      "Enter the your age 15\n",
      "Type of a is  <class 'str'>\n",
      "Type of b is  <class 'str'>\n",
      "Data Convertion\n",
      "Type of a is  <class 'str'>\n",
      "Type of b is  <class 'int'>\n",
      "You can watch this movie\n",
      "Movie GateKeeper Says: Person Jane of Age 15 says \"You can watch this movie\"\n"
     ]
    }
   ],
   "source": [
    "a = input('Enter the your name ')\n",
    "b = input('Enter the your age ')\n",
    "\n",
    "print('Type of a is ',type(a))\n",
    "print('Type of b is ',type(b))\n",
    "\n",
    "#a = int(a)\n",
    "b = int(b)\n",
    "print(\"Data Convertion\")\n",
    "print('Type of a is ',type(a))\n",
    "print('Type of b is ',type(b))\n",
    "\n",
    "\n",
    "#c = a+b\n",
    "if b < 6:\n",
    "    c = \"You are not allowed to watch this movie\"\n",
    "else:\n",
    "    c = \"You can watch this movie\"\n",
    "print(c)\n",
    "print('Movie GateKeeper Says: Person {0} of Age {1} that \"{2}\"'.format(a,b,c))"
   ]
  },
  {
   "cell_type": "code",
   "execution_count": null,
   "metadata": {},
   "outputs": [],
   "source": []
  },
  {
   "cell_type": "code",
   "execution_count": null,
   "metadata": {},
   "outputs": [],
   "source": []
  }
 ],
 "metadata": {
  "kernelspec": {
   "display_name": "Python 3",
   "language": "python",
   "name": "python3"
  },
  "language_info": {
   "codemirror_mode": {
    "name": "ipython",
    "version": 3
   },
   "file_extension": ".py",
   "mimetype": "text/x-python",
   "name": "python",
   "nbconvert_exporter": "python",
   "pygments_lexer": "ipython3",
   "version": "3.7.0"
  }
 },
 "nbformat": 4,
 "nbformat_minor": 2
}
