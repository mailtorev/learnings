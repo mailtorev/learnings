{
 "cells": [
  {
   "cell_type": "markdown",
   "metadata": {},
   "source": [
    "Types of python to run\n",
    "\n",
    "1. Immediate mode - cmd- python\n",
    "2. Script mode - python file.py\n",
    "3. IDE - Integrated Developement environment- spyder, pycharm, jupyter notebook"
   ]
  },
  {
   "cell_type": "code",
   "execution_count": 2,
   "metadata": {},
   "outputs": [
    {
     "data": {
      "text/plain": [
       "' Multiple line comment \\n    This is to give description about the underlying code\\n'"
      ]
     },
     "execution_count": 2,
     "metadata": {},
     "output_type": "execute_result"
    }
   ],
   "source": [
    "#single line Comment\n",
    "\n",
    "\"\"\" Multiple line comment \n",
    "    This is to give description about the underlying code\n",
    "\"\"\"\n",
    "#print(\"Hi\")\n",
    "\n"
   ]
  },
  {
   "cell_type": "code",
   "execution_count": 4,
   "metadata": {},
   "outputs": [
    {
     "name": "stdout",
     "output_type": "stream",
     "text": [
      "6\n"
     ]
    }
   ],
   "source": [
    "#Keywords\n",
    "\n",
    "#break = 2\n",
    "\n",
    "#Identifiers\n",
    "\n",
    "#Identifier is a name given to entities like class, functions, variables\n",
    "a = 4\n",
    "\n",
    "a1 = 34\n",
    "\n",
    "# 1. can be in alphabet with range of a to z\n",
    "# 2. can be in range of A to Z\n",
    "# 3. should not start with digits\n",
    "# 4. should not be keywords\n",
    "# 5. cannot use special symbols !,@,#,$,%\n",
    "global b\n",
    "\n",
    "b = 6\n",
    "print (b)\n",
    "#a$ = 7"
   ]
  },
  {
   "cell_type": "code",
   "execution_count": 8,
   "metadata": {},
   "outputs": [
    {
     "name": "stdout",
     "output_type": "stream",
     "text": [
      "1\n",
      "23\n",
      "30\n",
      "54 42 43\n",
      "3.2 4 Hello\n",
      "same data same data same data\n",
      "3 same data 3\n"
     ]
    }
   ],
   "source": [
    "#Statements\n",
    "\n",
    "a = 1 #assigngment statement\n",
    "\n",
    "print (a)\n",
    "\n",
    "#Multiple Statement\n",
    "a = 1 + 2 +3 + 4 + \\\n",
    "    2 + 4 +\\\n",
    "    3 + 4\n",
    "    \n",
    "print(a)\n",
    "\n",
    "a = (2 + 5 + 3 + 3 +\n",
    "     2 + 5 + 6\n",
    "     + 4)\n",
    "print(a)\n",
    "\n",
    "\n",
    "#Multiple Assigngment statement\n",
    "a = 54; b = 43; c = 42;\n",
    "\n",
    "print(a,c,b)\n",
    "\n",
    "a, b, c = 3.2,4,\"Hello\"\n",
    "\n",
    "print(a,b,c)\n",
    "\n",
    "a =b = c= \"same data\"\n",
    "\n",
    "print(a,b,c)\n",
    "\n",
    "a = c = 3\n",
    "print (a,b,c)\n",
    "\n"
   ]
  },
  {
   "cell_type": "code",
   "execution_count": 11,
   "metadata": {},
   "outputs": [
    {
     "data": {
      "text/plain": [
       "str"
      ]
     },
     "execution_count": 11,
     "metadata": {},
     "output_type": "execute_result"
    }
   ],
   "source": [
    "a,b,c=2,3.4,\"ds\"\n",
    "\n",
    "c = 'a'\n",
    "type(c)\n"
   ]
  },
  {
   "cell_type": "code",
   "execution_count": 1,
   "metadata": {},
   "outputs": [
    {
     "name": "stdout",
     "output_type": "stream",
     "text": [
      "5\n",
      "6\n"
     ]
    }
   ],
   "source": [
    "# Case sensitive language\n",
    "\n",
    "data = 5\n",
    "Data = 6\n",
    "\n",
    "print(data)\n",
    "print(Data)\n",
    "\n",
    "\n"
   ]
  },
  {
   "cell_type": "code",
   "execution_count": 15,
   "metadata": {},
   "outputs": [
    {
     "name": "stdout",
     "output_type": "stream",
     "text": [
      "1\n",
      "Inside for loop\n",
      "3\n",
      "Inside for loop\n",
      "5\n",
      "Inside if loop\n",
      "Hi\n",
      "Hello\n",
      "34\n"
     ]
    }
   ],
   "source": [
    "#Indentation\n",
    "\n",
    "\n",
    "for i in range(1,11,2):\n",
    "    print(i)\n",
    "    if(i==5):\n",
    "        print(\"Inside if loop\")\n",
    "        break     \n",
    "    print(\"Inside for loop\")    \n",
    "    \n",
    "if True:\n",
    "    print(\"Hi\")\n",
    "        \n",
    "\n",
    "if True: print(\"Hello\"); a =34; print(a)\n",
    "    \n",
    "        \n",
    "        "
   ]
  },
  {
   "cell_type": "code",
   "execution_count": 16,
   "metadata": {},
   "outputs": [
    {
     "name": "stdout",
     "output_type": "stream",
     "text": [
      "0\n",
      "inside for\n",
      "1\n",
      "inside for\n",
      "2\n",
      "inside for\n",
      "3\n",
      "inside for\n",
      "4\n",
      "inside for\n",
      "out of for\n"
     ]
    }
   ],
   "source": [
    "for a in range(5):\n",
    "    print(a)\n",
    "    print(\"inside for\")\n",
    "    if(a==4):\n",
    "        break\n",
    "    \n",
    "print(\"out of for\")    "
   ]
  },
  {
   "cell_type": "code",
   "execution_count": 17,
   "metadata": {},
   "outputs": [
    {
     "name": "stdout",
     "output_type": "stream",
     "text": [
      "a is of type <class 'int'>\n",
      "a is of type <class 'float'>\n",
      "a is of type <class 'str'>\n",
      "a is of type <class 'complex'>\n"
     ]
    },
    {
     "data": {
      "text/plain": [
       "True"
      ]
     },
     "execution_count": 17,
     "metadata": {},
     "output_type": "execute_result"
    }
   ],
   "source": [
    "a = 5\n",
    "print(\"a is of type\", type(a))\n",
    "\n",
    "a = 4.35\n",
    "print(\"a is of type\", type(a))\n",
    "\n",
    "a = \"Hello\"\n",
    "print(\"a is of type\", type(a))\n",
    "\n",
    "a = 1+2j\n",
    "print(\"a is of type\", type(a))\n",
    "\n",
    "isinstance(\"dcfsd\",str)\n"
   ]
  },
  {
   "cell_type": "code",
   "execution_count": null,
   "metadata": {},
   "outputs": [],
   "source": []
  }
 ],
 "metadata": {
  "anaconda-cloud": {},
  "kernelspec": {
   "display_name": "Python 3",
   "language": "python",
   "name": "python3"
  },
  "language_info": {
   "codemirror_mode": {
    "name": "ipython",
    "version": 3
   },
   "file_extension": ".py",
   "mimetype": "text/x-python",
   "name": "python",
   "nbconvert_exporter": "python",
   "pygments_lexer": "ipython3",
   "version": "3.7.0"
  }
 },
 "nbformat": 4,
 "nbformat_minor": 1
}
